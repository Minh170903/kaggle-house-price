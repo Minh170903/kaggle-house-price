{
 "cells": [
  {
   "cell_type": "markdown",
   "id": "72229490",
   "metadata": {},
   "source": [
    "# Predict House Price - Advanced Regression Techniques"
   ]
  },
  {
   "cell_type": "code",
   "execution_count": 43,
   "id": "77c5ccfc-d743-4378-9c94-0947ea1228c5",
   "metadata": {},
   "outputs": [
    {
     "name": "stdout",
     "output_type": "stream",
     "text": [
      "Collecting scikit-learn\n",
      "  Downloading scikit_learn-1.5.1-cp311-cp311-win_amd64.whl.metadata (12 kB)\n",
      "Requirement already satisfied: numpy>=1.19.5 in c:\\users\\admin\\anaconda3\\envs\\notebook-6.5.4\\lib\\site-packages (from scikit-learn) (2.0.1)\n",
      "Collecting scipy>=1.6.0 (from scikit-learn)\n",
      "  Downloading scipy-1.14.0-cp311-cp311-win_amd64.whl.metadata (60 kB)\n",
      "     ---------------------------------------- 0.0/60.8 kB ? eta -:--:--\n",
      "     -------------------------- ------------- 41.0/60.8 kB 2.0 MB/s eta 0:00:01\n",
      "     ---------------------------------------- 60.8/60.8 kB 1.6 MB/s eta 0:00:00\n",
      "Collecting joblib>=1.2.0 (from scikit-learn)\n",
      "  Downloading joblib-1.4.2-py3-none-any.whl.metadata (5.4 kB)\n",
      "Collecting threadpoolctl>=3.1.0 (from scikit-learn)\n",
      "  Downloading threadpoolctl-3.5.0-py3-none-any.whl.metadata (13 kB)\n",
      "Downloading scikit_learn-1.5.1-cp311-cp311-win_amd64.whl (11.0 MB)\n",
      "   ---------------------------------------- 0.0/11.0 MB ? eta -:--:--\n",
      "   -- ------------------------------------- 0.8/11.0 MB 25.1 MB/s eta 0:00:01\n",
      "   ------ --------------------------------- 1.7/11.0 MB 21.3 MB/s eta 0:00:01\n",
      "   --------- ------------------------------ 2.5/11.0 MB 20.3 MB/s eta 0:00:01\n",
      "   ------------- -------------------------- 3.6/11.0 MB 21.0 MB/s eta 0:00:01\n",
      "   ---------------- ----------------------- 4.5/11.0 MB 20.6 MB/s eta 0:00:01\n",
      "   -------------------- ------------------- 5.5/11.0 MB 20.7 MB/s eta 0:00:01\n",
      "   ------------------------ --------------- 6.7/11.0 MB 21.4 MB/s eta 0:00:01\n",
      "   ---------------------------- ----------- 7.9/11.0 MB 21.9 MB/s eta 0:00:01\n",
      "   -------------------------------- ------- 8.9/11.0 MB 21.8 MB/s eta 0:00:01\n",
      "   ------------------------------------ --- 10.1/11.0 MB 22.3 MB/s eta 0:00:01\n",
      "   ---------------------------------------  11.0/11.0 MB 22.6 MB/s eta 0:00:01\n",
      "   ---------------------------------------- 11.0/11.0 MB 21.8 MB/s eta 0:00:00\n",
      "Downloading joblib-1.4.2-py3-none-any.whl (301 kB)\n",
      "   ---------------------------------------- 0.0/301.8 kB ? eta -:--:--\n",
      "   --------------------------------------- 301.8/301.8 kB 18.2 MB/s eta 0:00:00\n",
      "Downloading scipy-1.14.0-cp311-cp311-win_amd64.whl (44.7 MB)\n",
      "   ---------------------------------------- 0.0/44.7 MB ? eta -:--:--\n",
      "    --------------------------------------- 0.9/44.7 MB 30.1 MB/s eta 0:00:02\n",
      "   - -------------------------------------- 2.2/44.7 MB 27.4 MB/s eta 0:00:02\n",
      "   -- ------------------------------------- 3.3/44.7 MB 26.0 MB/s eta 0:00:02\n",
      "   --- ------------------------------------ 4.4/44.7 MB 25.2 MB/s eta 0:00:02\n",
      "   ---- ----------------------------------- 5.3/44.7 MB 24.3 MB/s eta 0:00:02\n",
      "   ----- ---------------------------------- 6.3/44.7 MB 23.8 MB/s eta 0:00:02\n",
      "   ------ --------------------------------- 7.4/44.7 MB 23.6 MB/s eta 0:00:02\n",
      "   ------- -------------------------------- 8.4/44.7 MB 23.4 MB/s eta 0:00:02\n",
      "   -------- ------------------------------- 9.5/44.7 MB 23.4 MB/s eta 0:00:02\n",
      "   --------- ------------------------------ 10.5/44.7 MB 22.6 MB/s eta 0:00:02\n",
      "   ---------- ----------------------------- 11.5/44.7 MB 23.4 MB/s eta 0:00:02\n",
      "   ----------- ---------------------------- 12.5/44.7 MB 22.6 MB/s eta 0:00:02\n",
      "   ------------ --------------------------- 13.6/44.7 MB 22.6 MB/s eta 0:00:02\n",
      "   ------------ --------------------------- 14.5/44.7 MB 22.6 MB/s eta 0:00:02\n",
      "   ------------- -------------------------- 15.6/44.7 MB 22.5 MB/s eta 0:00:02\n",
      "   -------------- ------------------------- 16.5/44.7 MB 22.6 MB/s eta 0:00:02\n",
      "   --------------- ------------------------ 17.5/44.7 MB 21.9 MB/s eta 0:00:02\n",
      "   ---------------- ----------------------- 18.0/44.7 MB 21.1 MB/s eta 0:00:02\n",
      "   ---------------- ----------------------- 19.0/44.7 MB 20.5 MB/s eta 0:00:02\n",
      "   ----------------- ---------------------- 20.1/44.7 MB 21.1 MB/s eta 0:00:02\n",
      "   ------------------ --------------------- 21.1/44.7 MB 21.1 MB/s eta 0:00:02\n",
      "   ------------------- -------------------- 22.2/44.7 MB 21.1 MB/s eta 0:00:02\n",
      "   -------------------- ------------------- 23.1/44.7 MB 20.5 MB/s eta 0:00:02\n",
      "   --------------------- ------------------ 24.2/44.7 MB 20.5 MB/s eta 0:00:02\n",
      "   ---------------------- ----------------- 25.3/44.7 MB 21.1 MB/s eta 0:00:01\n",
      "   ----------------------- ---------------- 26.4/44.7 MB 21.1 MB/s eta 0:00:01\n",
      "   ------------------------ --------------- 27.3/44.7 MB 21.1 MB/s eta 0:00:01\n",
      "   ------------------------- -------------- 28.2/44.7 MB 21.8 MB/s eta 0:00:01\n",
      "   -------------------------- ------------- 29.4/44.7 MB 22.6 MB/s eta 0:00:01\n",
      "   --------------------------- ------------ 30.3/44.7 MB 21.8 MB/s eta 0:00:01\n",
      "   ---------------------------- ----------- 31.4/44.7 MB 21.8 MB/s eta 0:00:01\n",
      "   ---------------------------- ----------- 32.4/44.7 MB 21.9 MB/s eta 0:00:01\n",
      "   ----------------------------- ---------- 33.5/44.7 MB 21.9 MB/s eta 0:00:01\n",
      "   ------------------------------ --------- 34.5/44.7 MB 21.8 MB/s eta 0:00:01\n",
      "   ------------------------------- -------- 35.5/44.7 MB 21.8 MB/s eta 0:00:01\n",
      "   -------------------------------- ------- 36.5/44.7 MB 21.8 MB/s eta 0:00:01\n",
      "   --------------------------------- ------ 37.5/44.7 MB 21.8 MB/s eta 0:00:01\n",
      "   ---------------------------------- ----- 38.5/44.7 MB 21.8 MB/s eta 0:00:01\n",
      "   ----------------------------------- ---- 39.6/44.7 MB 21.8 MB/s eta 0:00:01\n",
      "   ------------------------------------ --- 40.5/44.7 MB 21.9 MB/s eta 0:00:01\n",
      "   ------------------------------------ --- 41.3/44.7 MB 21.8 MB/s eta 0:00:01\n",
      "   ------------------------------------- -- 41.6/44.7 MB 19.9 MB/s eta 0:00:01\n",
      "   ------------------------------------- -- 42.3/44.7 MB 19.3 MB/s eta 0:00:01\n",
      "   -------------------------------------- - 43.2/44.7 MB 19.3 MB/s eta 0:00:01\n",
      "   ---------------------------------------  44.2/44.7 MB 19.3 MB/s eta 0:00:01\n",
      "   ---------------------------------------  44.7/44.7 MB 19.3 MB/s eta 0:00:01\n",
      "   ---------------------------------------- 44.7/44.7 MB 17.2 MB/s eta 0:00:00\n",
      "Downloading threadpoolctl-3.5.0-py3-none-any.whl (18 kB)\n",
      "Installing collected packages: threadpoolctl, scipy, joblib, scikit-learn\n",
      "Successfully installed joblib-1.4.2 scikit-learn-1.5.1 scipy-1.14.0 threadpoolctl-3.5.0\n"
     ]
    }
   ],
   "source": [
    "!pip install scikit-learn\n",
    "\n"
   ]
  },
  {
   "cell_type": "code",
   "execution_count": 1,
   "id": "52ad9fe2",
   "metadata": {},
   "outputs": [],
   "source": [
    "import numpy as np\n",
    "import pandas as pd\n",
    "import matplotlib.pyplot as plt\n",
    "import seaborn as sns\n",
    "import warnings\n",
    "warnings.simplefilter(action='ignore', category=FutureWarning)\n",
    "\n",
    "\n",
    "%matplotlib inline\n",
    "sns.set_style('darkgrid')"
   ]
  },
  {
   "cell_type": "code",
   "execution_count": 3,
   "id": "0b494a71",
   "metadata": {},
   "outputs": [],
   "source": [
    "train_data = pd.read_csv('train.csv', index_col='Id')\n",
    "test_data = pd.read_csv('test.csv', index_col='Id')\n",
    "\n",
    "# Seperate dependent and independent variable\n",
    "X_train = train_data.drop(['SalePrice'], axis=1)\n",
    "y_train = train_data['SalePrice']\n",
    "\n",
    "# Concatenate train and test data\n",
    "X = pd.concat([X_train, test_data], axis=0)"
   ]
  },
  {
   "cell_type": "code",
   "execution_count": null,
   "id": "5988245a",
   "metadata": {},
   "outputs": [],
   "source": []
  },
  {
   "cell_type": "code",
   "execution_count": 6,
   "id": "aa9b23ad",
   "metadata": {
    "scrolled": true
   },
   "outputs": [
    {
     "name": "stdout",
     "output_type": "stream",
     "text": [
      "Train data :  (1460, 79)\n",
      "Test data :  (1459, 79)\n"
     ]
    }
   ],
   "source": [
    "print(\"Train data : \", X_train.shape)\n",
    "print(\"Test data : \", test_data.shape)"
   ]
  },
  {
   "cell_type": "code",
   "execution_count": null,
   "id": "00ee4c47",
   "metadata": {},
   "outputs": [],
   "source": []
  },
  {
   "cell_type": "code",
   "execution_count": 9,
   "id": "d5a0ad5c",
   "metadata": {},
   "outputs": [
    {
     "name": "stdout",
     "output_type": "stream",
     "text": [
      "There are 36 numerical variables:\n",
      " ['MSSubClass', 'LotFrontage', 'LotArea', 'OverallQual', 'OverallCond', 'YearBuilt', 'YearRemodAdd', 'MasVnrArea', 'BsmtFinSF1', 'BsmtFinSF2', 'BsmtUnfSF', 'TotalBsmtSF', '1stFlrSF', '2ndFlrSF', 'LowQualFinSF', 'GrLivArea', 'BsmtFullBath', 'BsmtHalfBath', 'FullBath', 'HalfBath', 'BedroomAbvGr', 'KitchenAbvGr', 'TotRmsAbvGrd', 'Fireplaces', 'GarageYrBlt', 'GarageCars', 'GarageArea', 'WoodDeckSF', 'OpenPorchSF', 'EnclosedPorch', '3SsnPorch', 'ScreenPorch', 'PoolArea', 'MiscVal', 'MoSold', 'YrSold']\n",
      "\n",
      "\n",
      "There are 43 categorical variables:\n",
      " ['MSZoning', 'Street', 'Alley', 'LotShape', 'LandContour', 'Utilities', 'LotConfig', 'LandSlope', 'Neighborhood', 'Condition1', 'Condition2', 'BldgType', 'HouseStyle', 'RoofStyle', 'RoofMatl', 'Exterior1st', 'Exterior2nd', 'MasVnrType', 'ExterQual', 'ExterCond', 'Foundation', 'BsmtQual', 'BsmtCond', 'BsmtExposure', 'BsmtFinType1', 'BsmtFinType2', 'Heating', 'HeatingQC', 'CentralAir', 'Electrical', 'KitchenQual', 'Functional', 'FireplaceQu', 'GarageType', 'GarageFinish', 'GarageQual', 'GarageCond', 'PavedDrive', 'PoolQC', 'Fence', 'MiscFeature', 'SaleType', 'SaleCondition']\n"
     ]
    }
   ],
   "source": [
    "numerical = [col for col in X_train.columns if X_train[col].dtype != 'object']\n",
    "print(f\"There are {len(numerical)} numerical variables:\\n\", numerical)\n",
    "print('\\n')\n",
    "categorical = [col for col in X_train.columns if X_train[col].dtype == 'object']\n",
    "print(f\"There are {len(categorical)} categorical variables:\\n\", categorical)"
   ]
  },
  {
   "cell_type": "markdown",
   "id": "d1894875",
   "metadata": {},
   "source": [
    "# Exploratory Data Analysis"
   ]
  },
  {
   "cell_type": "markdown",
   "id": "d8d4bb24",
   "metadata": {},
   "source": [
    "## 2.1 numerical variables"
   ]
  },
  {
   "cell_type": "code",
   "execution_count": 13,
   "id": "33adf116",
   "metadata": {
    "scrolled": true
   },
   "outputs": [
    {
     "ename": "ValueError",
     "evalue": "could not convert string to float: 'RL'",
     "output_type": "error",
     "traceback": [
      "\u001b[1;31m---------------------------------------------------------------------------\u001b[0m",
      "\u001b[1;31mValueError\u001b[0m                                Traceback (most recent call last)",
      "Cell \u001b[1;32mIn[13], line 1\u001b[0m\n\u001b[1;32m----> 1\u001b[0m corr_mat \u001b[38;5;241m=\u001b[39m train_data\u001b[38;5;241m.\u001b[39mcorrwith(train_data[\u001b[38;5;124m'\u001b[39m\u001b[38;5;124mSalePrice\u001b[39m\u001b[38;5;124m'\u001b[39m])\u001b[38;5;241m.\u001b[39msort_values(ascending\u001b[38;5;241m=\u001b[39m\u001b[38;5;28;01mFalse\u001b[39;00m)\n\u001b[0;32m      2\u001b[0m corr_mat\u001b[38;5;241m.\u001b[39mhead(\u001b[38;5;241m10\u001b[39m)\n",
      "File \u001b[1;32m~\\anaconda3\\Lib\\site-packages\\pandas\\core\\frame.py:11295\u001b[0m, in \u001b[0;36mDataFrame.corrwith\u001b[1;34m(self, other, axis, drop, method, numeric_only)\u001b[0m\n\u001b[0;32m  11292\u001b[0m this \u001b[38;5;241m=\u001b[39m \u001b[38;5;28mself\u001b[39m\u001b[38;5;241m.\u001b[39m_get_numeric_data() \u001b[38;5;28;01mif\u001b[39;00m numeric_only \u001b[38;5;28;01melse\u001b[39;00m \u001b[38;5;28mself\u001b[39m\n\u001b[0;32m  11294\u001b[0m \u001b[38;5;28;01mif\u001b[39;00m \u001b[38;5;28misinstance\u001b[39m(other, Series):\n\u001b[1;32m> 11295\u001b[0m     \u001b[38;5;28;01mreturn\u001b[39;00m this\u001b[38;5;241m.\u001b[39mapply(\u001b[38;5;28;01mlambda\u001b[39;00m x: other\u001b[38;5;241m.\u001b[39mcorr(x, method\u001b[38;5;241m=\u001b[39mmethod), axis\u001b[38;5;241m=\u001b[39maxis)\n\u001b[0;32m  11297\u001b[0m \u001b[38;5;28;01mif\u001b[39;00m numeric_only:\n\u001b[0;32m  11298\u001b[0m     other \u001b[38;5;241m=\u001b[39m other\u001b[38;5;241m.\u001b[39m_get_numeric_data()\n",
      "File \u001b[1;32m~\\anaconda3\\Lib\\site-packages\\pandas\\core\\frame.py:10374\u001b[0m, in \u001b[0;36mDataFrame.apply\u001b[1;34m(self, func, axis, raw, result_type, args, by_row, engine, engine_kwargs, **kwargs)\u001b[0m\n\u001b[0;32m  10360\u001b[0m \u001b[38;5;28;01mfrom\u001b[39;00m \u001b[38;5;21;01mpandas\u001b[39;00m\u001b[38;5;21;01m.\u001b[39;00m\u001b[38;5;21;01mcore\u001b[39;00m\u001b[38;5;21;01m.\u001b[39;00m\u001b[38;5;21;01mapply\u001b[39;00m \u001b[38;5;28;01mimport\u001b[39;00m frame_apply\n\u001b[0;32m  10362\u001b[0m op \u001b[38;5;241m=\u001b[39m frame_apply(\n\u001b[0;32m  10363\u001b[0m     \u001b[38;5;28mself\u001b[39m,\n\u001b[0;32m  10364\u001b[0m     func\u001b[38;5;241m=\u001b[39mfunc,\n\u001b[1;32m   (...)\u001b[0m\n\u001b[0;32m  10372\u001b[0m     kwargs\u001b[38;5;241m=\u001b[39mkwargs,\n\u001b[0;32m  10373\u001b[0m )\n\u001b[1;32m> 10374\u001b[0m \u001b[38;5;28;01mreturn\u001b[39;00m op\u001b[38;5;241m.\u001b[39mapply()\u001b[38;5;241m.\u001b[39m__finalize__(\u001b[38;5;28mself\u001b[39m, method\u001b[38;5;241m=\u001b[39m\u001b[38;5;124m\"\u001b[39m\u001b[38;5;124mapply\u001b[39m\u001b[38;5;124m\"\u001b[39m)\n",
      "File \u001b[1;32m~\\anaconda3\\Lib\\site-packages\\pandas\\core\\apply.py:916\u001b[0m, in \u001b[0;36mFrameApply.apply\u001b[1;34m(self)\u001b[0m\n\u001b[0;32m    913\u001b[0m \u001b[38;5;28;01melif\u001b[39;00m \u001b[38;5;28mself\u001b[39m\u001b[38;5;241m.\u001b[39mraw:\n\u001b[0;32m    914\u001b[0m     \u001b[38;5;28;01mreturn\u001b[39;00m \u001b[38;5;28mself\u001b[39m\u001b[38;5;241m.\u001b[39mapply_raw(engine\u001b[38;5;241m=\u001b[39m\u001b[38;5;28mself\u001b[39m\u001b[38;5;241m.\u001b[39mengine, engine_kwargs\u001b[38;5;241m=\u001b[39m\u001b[38;5;28mself\u001b[39m\u001b[38;5;241m.\u001b[39mengine_kwargs)\n\u001b[1;32m--> 916\u001b[0m \u001b[38;5;28;01mreturn\u001b[39;00m \u001b[38;5;28mself\u001b[39m\u001b[38;5;241m.\u001b[39mapply_standard()\n",
      "File \u001b[1;32m~\\anaconda3\\Lib\\site-packages\\pandas\\core\\apply.py:1063\u001b[0m, in \u001b[0;36mFrameApply.apply_standard\u001b[1;34m(self)\u001b[0m\n\u001b[0;32m   1061\u001b[0m \u001b[38;5;28;01mdef\u001b[39;00m \u001b[38;5;21mapply_standard\u001b[39m(\u001b[38;5;28mself\u001b[39m):\n\u001b[0;32m   1062\u001b[0m     \u001b[38;5;28;01mif\u001b[39;00m \u001b[38;5;28mself\u001b[39m\u001b[38;5;241m.\u001b[39mengine \u001b[38;5;241m==\u001b[39m \u001b[38;5;124m\"\u001b[39m\u001b[38;5;124mpython\u001b[39m\u001b[38;5;124m\"\u001b[39m:\n\u001b[1;32m-> 1063\u001b[0m         results, res_index \u001b[38;5;241m=\u001b[39m \u001b[38;5;28mself\u001b[39m\u001b[38;5;241m.\u001b[39mapply_series_generator()\n\u001b[0;32m   1064\u001b[0m     \u001b[38;5;28;01melse\u001b[39;00m:\n\u001b[0;32m   1065\u001b[0m         results, res_index \u001b[38;5;241m=\u001b[39m \u001b[38;5;28mself\u001b[39m\u001b[38;5;241m.\u001b[39mapply_series_numba()\n",
      "File \u001b[1;32m~\\anaconda3\\Lib\\site-packages\\pandas\\core\\apply.py:1081\u001b[0m, in \u001b[0;36mFrameApply.apply_series_generator\u001b[1;34m(self)\u001b[0m\n\u001b[0;32m   1078\u001b[0m \u001b[38;5;28;01mwith\u001b[39;00m option_context(\u001b[38;5;124m\"\u001b[39m\u001b[38;5;124mmode.chained_assignment\u001b[39m\u001b[38;5;124m\"\u001b[39m, \u001b[38;5;28;01mNone\u001b[39;00m):\n\u001b[0;32m   1079\u001b[0m     \u001b[38;5;28;01mfor\u001b[39;00m i, v \u001b[38;5;129;01min\u001b[39;00m \u001b[38;5;28menumerate\u001b[39m(series_gen):\n\u001b[0;32m   1080\u001b[0m         \u001b[38;5;66;03m# ignore SettingWithCopy here in case the user mutates\u001b[39;00m\n\u001b[1;32m-> 1081\u001b[0m         results[i] \u001b[38;5;241m=\u001b[39m \u001b[38;5;28mself\u001b[39m\u001b[38;5;241m.\u001b[39mfunc(v, \u001b[38;5;241m*\u001b[39m\u001b[38;5;28mself\u001b[39m\u001b[38;5;241m.\u001b[39margs, \u001b[38;5;241m*\u001b[39m\u001b[38;5;241m*\u001b[39m\u001b[38;5;28mself\u001b[39m\u001b[38;5;241m.\u001b[39mkwargs)\n\u001b[0;32m   1082\u001b[0m         \u001b[38;5;28;01mif\u001b[39;00m \u001b[38;5;28misinstance\u001b[39m(results[i], ABCSeries):\n\u001b[0;32m   1083\u001b[0m             \u001b[38;5;66;03m# If we have a view on v, we need to make a copy because\u001b[39;00m\n\u001b[0;32m   1084\u001b[0m             \u001b[38;5;66;03m#  series_generator will swap out the underlying data\u001b[39;00m\n\u001b[0;32m   1085\u001b[0m             results[i] \u001b[38;5;241m=\u001b[39m results[i]\u001b[38;5;241m.\u001b[39mcopy(deep\u001b[38;5;241m=\u001b[39m\u001b[38;5;28;01mFalse\u001b[39;00m)\n",
      "File \u001b[1;32m~\\anaconda3\\Lib\\site-packages\\pandas\\core\\frame.py:11295\u001b[0m, in \u001b[0;36mDataFrame.corrwith.<locals>.<lambda>\u001b[1;34m(x)\u001b[0m\n\u001b[0;32m  11292\u001b[0m this \u001b[38;5;241m=\u001b[39m \u001b[38;5;28mself\u001b[39m\u001b[38;5;241m.\u001b[39m_get_numeric_data() \u001b[38;5;28;01mif\u001b[39;00m numeric_only \u001b[38;5;28;01melse\u001b[39;00m \u001b[38;5;28mself\u001b[39m\n\u001b[0;32m  11294\u001b[0m \u001b[38;5;28;01mif\u001b[39;00m \u001b[38;5;28misinstance\u001b[39m(other, Series):\n\u001b[1;32m> 11295\u001b[0m     \u001b[38;5;28;01mreturn\u001b[39;00m this\u001b[38;5;241m.\u001b[39mapply(\u001b[38;5;28;01mlambda\u001b[39;00m x: other\u001b[38;5;241m.\u001b[39mcorr(x, method\u001b[38;5;241m=\u001b[39mmethod), axis\u001b[38;5;241m=\u001b[39maxis)\n\u001b[0;32m  11297\u001b[0m \u001b[38;5;28;01mif\u001b[39;00m numeric_only:\n\u001b[0;32m  11298\u001b[0m     other \u001b[38;5;241m=\u001b[39m other\u001b[38;5;241m.\u001b[39m_get_numeric_data()\n",
      "File \u001b[1;32m~\\anaconda3\\Lib\\site-packages\\pandas\\core\\series.py:2974\u001b[0m, in \u001b[0;36mSeries.corr\u001b[1;34m(self, other, method, min_periods)\u001b[0m\n\u001b[0;32m   2971\u001b[0m     \u001b[38;5;28;01mreturn\u001b[39;00m np\u001b[38;5;241m.\u001b[39mnan\n\u001b[0;32m   2973\u001b[0m this_values \u001b[38;5;241m=\u001b[39m this\u001b[38;5;241m.\u001b[39mto_numpy(dtype\u001b[38;5;241m=\u001b[39m\u001b[38;5;28mfloat\u001b[39m, na_value\u001b[38;5;241m=\u001b[39mnp\u001b[38;5;241m.\u001b[39mnan, copy\u001b[38;5;241m=\u001b[39m\u001b[38;5;28;01mFalse\u001b[39;00m)\n\u001b[1;32m-> 2974\u001b[0m other_values \u001b[38;5;241m=\u001b[39m other\u001b[38;5;241m.\u001b[39mto_numpy(dtype\u001b[38;5;241m=\u001b[39m\u001b[38;5;28mfloat\u001b[39m, na_value\u001b[38;5;241m=\u001b[39mnp\u001b[38;5;241m.\u001b[39mnan, copy\u001b[38;5;241m=\u001b[39m\u001b[38;5;28;01mFalse\u001b[39;00m)\n\u001b[0;32m   2976\u001b[0m \u001b[38;5;28;01mif\u001b[39;00m method \u001b[38;5;129;01min\u001b[39;00m [\u001b[38;5;124m\"\u001b[39m\u001b[38;5;124mpearson\u001b[39m\u001b[38;5;124m\"\u001b[39m, \u001b[38;5;124m\"\u001b[39m\u001b[38;5;124mspearman\u001b[39m\u001b[38;5;124m\"\u001b[39m, \u001b[38;5;124m\"\u001b[39m\u001b[38;5;124mkendall\u001b[39m\u001b[38;5;124m\"\u001b[39m] \u001b[38;5;129;01mor\u001b[39;00m \u001b[38;5;28mcallable\u001b[39m(method):\n\u001b[0;32m   2977\u001b[0m     \u001b[38;5;28;01mreturn\u001b[39;00m nanops\u001b[38;5;241m.\u001b[39mnancorr(\n\u001b[0;32m   2978\u001b[0m         this_values, other_values, method\u001b[38;5;241m=\u001b[39mmethod, min_periods\u001b[38;5;241m=\u001b[39mmin_periods\n\u001b[0;32m   2979\u001b[0m     )\n",
      "File \u001b[1;32m~\\anaconda3\\Lib\\site-packages\\pandas\\core\\base.py:662\u001b[0m, in \u001b[0;36mIndexOpsMixin.to_numpy\u001b[1;34m(self, dtype, copy, na_value, **kwargs)\u001b[0m\n\u001b[0;32m    658\u001b[0m         values \u001b[38;5;241m=\u001b[39m values\u001b[38;5;241m.\u001b[39mcopy()\n\u001b[0;32m    660\u001b[0m     values[np\u001b[38;5;241m.\u001b[39masanyarray(isna(\u001b[38;5;28mself\u001b[39m))] \u001b[38;5;241m=\u001b[39m na_value\n\u001b[1;32m--> 662\u001b[0m result \u001b[38;5;241m=\u001b[39m np\u001b[38;5;241m.\u001b[39masarray(values, dtype\u001b[38;5;241m=\u001b[39mdtype)\n\u001b[0;32m    664\u001b[0m \u001b[38;5;28;01mif\u001b[39;00m (copy \u001b[38;5;129;01mand\u001b[39;00m \u001b[38;5;129;01mnot\u001b[39;00m fillna) \u001b[38;5;129;01mor\u001b[39;00m (\u001b[38;5;129;01mnot\u001b[39;00m copy \u001b[38;5;129;01mand\u001b[39;00m using_copy_on_write()):\n\u001b[0;32m    665\u001b[0m     \u001b[38;5;28;01mif\u001b[39;00m np\u001b[38;5;241m.\u001b[39mshares_memory(\u001b[38;5;28mself\u001b[39m\u001b[38;5;241m.\u001b[39m_values[:\u001b[38;5;241m2\u001b[39m], result[:\u001b[38;5;241m2\u001b[39m]):\n\u001b[0;32m    666\u001b[0m         \u001b[38;5;66;03m# Take slices to improve performance of check\u001b[39;00m\n",
      "\u001b[1;31mValueError\u001b[0m: could not convert string to float: 'RL'"
     ]
    }
   ],
   "source": [
    "corr_mat = train_data.corrwith(train_data['SalePrice']).sort_values(ascending=False)\n",
    "corr_mat.head(10)"
   ]
  },
  {
   "cell_type": "markdown",
   "id": "393dda0a",
   "metadata": {},
   "source": [
    "Using the [Recursive Features Elimination](https://link-url-here.org)\n",
    " (REF) with a linear regression seector I will select the top 10 variables that are significant. "
   ]
  },
  {
   "cell_type": "code",
   "execution_count": 16,
   "id": "c4927878",
   "metadata": {},
   "outputs": [
    {
     "data": {
      "text/plain": [
       "['OverallQual',\n",
       " 'BsmtFullBath',\n",
       " 'BsmtHalfBath',\n",
       " 'FullBath',\n",
       " 'HalfBath',\n",
       " 'BedroomAbvGr',\n",
       " 'KitchenAbvGr',\n",
       " 'TotRmsAbvGrd',\n",
       " 'Fireplaces',\n",
       " 'GarageCars']"
      ]
     },
     "execution_count": 16,
     "metadata": {},
     "output_type": "execute_result"
    }
   ],
   "source": [
    "from sklearn.feature_selection import RFE\n",
    "from sklearn.linear_model import LinearRegression\n",
    "\n",
    "# Initialize Linear Regression estimator\n",
    "estimator = LinearRegression()\n",
    "\n",
    "# Initialize RFE selector\n",
    "rfe = RFE(estimator, n_features_to_select=10, step=1)\n",
    "\n",
    "# Fit RFE selector to training data\n",
    "rfe.fit(X_train.select_dtypes(exclude='object').fillna(0), y_train)\n",
    "\n",
    "# Get selected features\n",
    "selectedVar = list(X_train.select_dtypes(exclude='object').columns[rfe.support_])\n",
    "selectedVar\n"
   ]
  },
  {
   "cell_type": "markdown",
   "id": "92c542cf",
   "metadata": {},
   "source": [
    "From the above analyses, I observe that **Overall Quality, GrLivArea, Number of Full Baths, Size of Garage and Year Built** are the most important variables in determining house price. Now lets explore them further"
   ]
  },
  {
   "cell_type": "markdown",
   "id": "249ceb4a",
   "metadata": {},
   "source": [
    "### OveralQual"
   ]
  },
  {
   "cell_type": "code",
   "execution_count": 20,
   "id": "3362b731",
   "metadata": {},
   "outputs": [
    {
     "data": {
      "text/plain": [
       "Text(0.5, 1.0, 'House Price vs Overall Quality')"
      ]
     },
     "execution_count": 20,
     "metadata": {},
     "output_type": "execute_result"
    },
    {
     "data": {
      "image/png": "[encoded data removed]",
      "text/plain": [
       "<Figure size 800x500 with 1 Axes>"
      ]
     },
     "metadata": {},
     "output_type": "display_data"
    }
   ],
   "source": [
    "plt.figure(figsize=(8, 5))\n",
    "sns.boxplot(x='OverallQual', y='SalePrice', data=train_data, palette='BuPu')\n",
    "plt.title('House Price vs Overall Quality')"
   ]
  },
  {
   "cell_type": "markdown",
   "id": "86a7e6b6",
   "metadata": {},
   "source": [
    "### GrLivArea"
   ]
  },
  {
   "cell_type": "code",
   "execution_count": 44,
   "id": "1f492460",
   "metadata": {},
   "outputs": [
    {
     "ename": "TypeError",
     "evalue": "jointplot() got multiple values for argument 'data'",
     "output_type": "error",
     "traceback": [
      "\u001b[1;31m---------------------------------------------------------------------------\u001b[0m",
      "\u001b[1;31mTypeError\u001b[0m                                 Traceback (most recent call last)",
      "Cell \u001b[1;32mIn[44], line 3\u001b[0m\n\u001b[0;32m      1\u001b[0m \u001b[38;5;66;03m# Create jointplot\u001b[39;00m\n\u001b[0;32m      2\u001b[0m plt\u001b[38;5;241m.\u001b[39mfigure(figsize\u001b[38;5;241m=\u001b[39m(\u001b[38;5;241m8\u001b[39m, \u001b[38;5;241m5\u001b[39m))\n\u001b[1;32m----> 3\u001b[0m sns\u001b[38;5;241m.\u001b[39mjointplot(train_data[\u001b[38;5;124m'\u001b[39m\u001b[38;5;124mGrLivArea\u001b[39m\u001b[38;5;124m'\u001b[39m],\n\u001b[0;32m      4\u001b[0m               train_data[\u001b[38;5;124m'\u001b[39m\u001b[38;5;124mSalePrice\u001b[39m\u001b[38;5;124m'\u001b[39m],\n\u001b[0;32m      5\u001b[0m               data\u001b[38;5;241m=\u001b[39mtrain_data,\n\u001b[0;32m      6\u001b[0m               kind\u001b[38;5;241m=\u001b[39m\u001b[38;5;124m'\u001b[39m\u001b[38;5;124mreg\u001b[39m\u001b[38;5;124m'\u001b[39m,\n\u001b[0;32m      7\u001b[0m               height\u001b[38;5;241m=\u001b[39m\u001b[38;5;241m7\u001b[39m)\n",
      "\u001b[1;31mTypeError\u001b[0m: jointplot() got multiple values for argument 'data'"
     ]
    },
    {
     "data": {
      "text/plain": [
       "<Figure size 800x500 with 0 Axes>"
      ]
     },
     "metadata": {},
     "output_type": "display_data"
    }
   ],
   "source": [
    "# Create jointplot\n",
    "plt.figure(figsize=(8, 5))\n",
    "sns.jointplot(train_data['GrLivArea'],\n",
    "              train_data['SalePrice'],\n",
    "              data=train_data,\n",
    "              kind='reg',\n",
    "              height=7)"
   ]
  },
  {
   "cell_type": "code",
   "execution_count": 33,
   "id": "c0d564af",
   "metadata": {},
   "outputs": [
    {
     "name": "stdout",
     "output_type": "stream",
     "text": [
      "Correlation:  0.7086244776126515\n"
     ]
    }
   ],
   "source": [
    "correlation = train_data[['GrLivArea', 'SalePrice']].corr().iloc[1, 0]\n",
    "print(\"Correlation: \", correlation)"
   ]
  },
  {
   "cell_type": "markdown",
   "id": "e045566b",
   "metadata": {},
   "source": [
    "We can see that GrLivArea and SalePrice has linear relationship.There are also 2 outliers that have Living Area greater than 4000 but with price lower than $200000 "
   ]
  },
  {
   "cell_type": "markdown",
   "id": "fc7ff7ad",
   "metadata": {},
   "source": [
    "### GarageCars"
   ]
  },
  {
   "cell_type": "code",
   "execution_count": 37,
   "id": "d614e1a4",
   "metadata": {},
   "outputs": [
    {
     "data": {
      "image/png": "[encoded data removed]",
      "text/plain": [
       "<Figure size 800x500 with 1 Axes>"
      ]
     },
     "metadata": {},
     "output_type": "display_data"
    }
   ],
   "source": [
    "plt.figure(figsize=(8, 5))\n",
    "sns.boxplot(x='GarageCars', y='SalePrice', data=train_data, palette='BuPu')\n",
    "title = plt.title('House Price vs Garage Size')"
   ]
  },
  {
   "cell_type": "markdown",
   "id": "b9a60ccb",
   "metadata": {},
   "source": [
    "### YearBuilt"
   ]
  },
  {
   "cell_type": "code",
   "execution_count": 40,
   "id": "0b4c86df",
   "metadata": {},
   "outputs": [
    {
     "ename": "TypeError",
     "evalue": "jointplot() takes from 0 to 1 positional arguments but 2 positional arguments (and 2 keyword-only arguments) were given",
     "output_type": "error",
     "traceback": [
      "\u001b[1;31m---------------------------------------------------------------------------\u001b[0m",
      "\u001b[1;31mTypeError\u001b[0m                                 Traceback (most recent call last)",
      "Cell \u001b[1;32mIn[40], line 3\u001b[0m\n\u001b[0;32m      1\u001b[0m \u001b[38;5;66;03m# Create jointplot\u001b[39;00m\n\u001b[0;32m      2\u001b[0m plt\u001b[38;5;241m.\u001b[39mfigure(figsize\u001b[38;5;241m=\u001b[39m(\u001b[38;5;241m8\u001b[39m, \u001b[38;5;241m5\u001b[39m))\n\u001b[1;32m----> 3\u001b[0m sns\u001b[38;5;241m.\u001b[39mjointplot(train_data[\u001b[38;5;124m'\u001b[39m\u001b[38;5;124mYearBuilt\u001b[39m\u001b[38;5;124m'\u001b[39m],\n\u001b[0;32m      4\u001b[0m               train_data[\u001b[38;5;124m'\u001b[39m\u001b[38;5;124mSalePrice\u001b[39m\u001b[38;5;124m'\u001b[39m],\n\u001b[0;32m      5\u001b[0m               kind\u001b[38;5;241m=\u001b[39m\u001b[38;5;124m'\u001b[39m\u001b[38;5;124mreg\u001b[39m\u001b[38;5;124m'\u001b[39m,\n\u001b[0;32m      6\u001b[0m               height\u001b[38;5;241m=\u001b[39m\u001b[38;5;241m7\u001b[39m)\n",
      "\u001b[1;31mTypeError\u001b[0m: jointplot() takes from 0 to 1 positional arguments but 2 positional arguments (and 2 keyword-only arguments) were given"
     ]
    },
    {
     "data": {
      "text/plain": [
       "<Figure size 800x500 with 0 Axes>"
      ]
     },
     "metadata": {},
     "output_type": "display_data"
    }
   ],
   "source": [
    "# Create jointplot\n",
    "plt.figure(figsize=(8, 5))\n",
    "sns.jointplot(train_data['YearBuilt'],\n",
    "              train_data['SalePrice'],\n",
    "              kind='reg',\n",
    "              height=7)"
   ]
  },
  {
   "cell_type": "markdown",
   "id": "ea558767",
   "metadata": {},
   "source": [
    "This is an interesting insights, house price and YearBuilt have a linear relationship. Newer houses have higher sale price than old houses. However, there are also some houses built before 1900 that have high prices."
   ]
  },
  {
   "cell_type": "markdown",
   "id": "e2025d01",
   "metadata": {},
   "source": [
    "## 2.2 Categorical Variables"
   ]
  },
  {
   "cell_type": "markdown",
   "id": "bdedfe33",
   "metadata": {},
   "source": [
    "I will focus specifically to this variable because I think they are significant"
   ]
  },
  {
   "cell_type": "code",
   "execution_count": null,
   "id": "80de5677",
   "metadata": {},
   "outputs": [],
   "source": [
    "sigCat = [\n",
    "    'Street', 'LandContour', 'LotConfig', 'LandSlope', 'Neighborhood',\n",
    "    'Condition1', 'Condition2', 'RoofMatl', 'ExterQual', 'BsmtQual',\n",
    "    'BsmtExposure', 'KitchenQual', 'Functional', 'GarageQual', 'PoolQC'\n",
    "]"
   ]
  },
  {
   "cell_type": "markdown",
   "id": "a2226dde",
   "metadata": {},
   "source": [
    "### neighborhood"
   ]
  },
  {
   "cell_type": "code",
   "execution_count": null,
   "id": "07dfafcf",
   "metadata": {},
   "outputs": [],
   "source": [
    "# Create box plot\n",
    "plt.figure(figsize=(12, 7))\n",
    "sns.boxplot(x= 'Neighborhood',\n",
    "            y='SalePrice',\n",
    "            data=train_data,\n",
    "            order = train_data.groupby('Neighborhood').median().SalePrice.sort_values(ascending=False).index,\n",
    "            palette='BuPu')\n",
    "title =plt.title('House Price vs Neighborhood')\n",
    "tick =plt.xticks(rotation=45)"
   ]
  },
  {
   "cell_type": "markdown",
   "id": "19cd793f",
   "metadata": {},
   "source": [
    "The top 3 most expensive neighborhoods are NridgHt, NoRidge and StoneBr with median house prices of approximately $300000, three times as high as the median of the 3 cheapest neighborhoods, which are BrDale, DOTRR and MeadowV."
   ]
  },
  {
   "cell_type": "markdown",
   "id": "10d74a8e",
   "metadata": {},
   "source": [
    "### RoofMatl"
   ]
  },
  {
   "cell_type": "code",
   "execution_count": null,
   "id": "6a2ca846",
   "metadata": {
    "scrolled": true
   },
   "outputs": [],
   "source": [
    "# Create box plot\n",
    "plt.figure(figsize=(8, 6))\n",
    "sns.boxplot(x= 'RoofMatl',\n",
    "            y='SalePrice',\n",
    "            data=train_data,\n",
    "            order = train_data.groupby('RoofMatl').median().SalePrice.sort_values(ascending=False).index,\n",
    "            palette='BuPu')\n",
    "title =plt.title('House Price vs RoofMatl')"
   ]
  },
  {
   "cell_type": "markdown",
   "id": "6c30dd54",
   "metadata": {},
   "source": [
    "Houses using Wood Shingles roof are the most expensive with price ranging from $300000 to $450000."
   ]
  },
  {
   "cell_type": "markdown",
   "id": "85abac2e",
   "metadata": {},
   "source": [
    "### Kitchen Quality"
   ]
  },
  {
   "cell_type": "code",
   "execution_count": null,
   "id": "fa71dd69",
   "metadata": {},
   "outputs": [],
   "source": [
    "# Create box plot\n",
    "plt.figure(figsize=(8, 6))\n",
    "sns.boxplot(x= 'KitchenQual',\n",
    "            y='SalePrice',\n",
    "            data=train_data,\n",
    "            order = train_data.groupby('KitchenQual').median().SalePrice.sort_values(ascending=False).index,\n",
    "            palette='BuPu')\n",
    "title =plt.title('House Price vs KitchenQual')"
   ]
  },
  {
   "cell_type": "markdown",
   "id": "7526cf2e",
   "metadata": {},
   "source": [
    " the average price difference between a house with a good kitchen and one with an excellent kitchen is about $120000."
   ]
  },
  {
   "cell_type": "markdown",
   "id": "dfdd602c",
   "metadata": {},
   "source": []
  },
  {
   "cell_type": "markdown",
   "id": "a9b90018",
   "metadata": {},
   "source": [
    "## 2.3 Exporing Sale Price"
   ]
  },
  {
   "cell_type": "code",
   "execution_count": null,
   "id": "72f1619a",
   "metadata": {},
   "outputs": [],
   "source": [
    "plt.figure(figsize=(8,5))\n",
    "sns.distplot(y_train)\n",
    "plt.title(\"House Price Distribution\")\n",
    "print(f\"\"\"Skewness: {y_train.skew()}\n",
    "Kurtosis: {y_train.kurt()}\"\"\")"
   ]
  },
  {
   "cell_type": "markdown",
   "id": "e920d144",
   "metadata": {},
   "source": [
    "Sale Price has a RIght-Skewed distribution with house prices ranging around $200000"
   ]
  },
  {
   "cell_type": "markdown",
   "id": "716f5699",
   "metadata": {},
   "source": [
    "## 2.4 Exporing Correlation"
   ]
  },
  {
   "cell_type": "code",
   "execution_count": null,
   "id": "4806800a",
   "metadata": {},
   "outputs": [],
   "source": [
    "cor_matrix = train_data.corr()\n",
    "\n",
    "# Filter out variables with correlations greater than 0.5\n",
    "highcor_matrix = cor_matrix[abs(cor_matrix) >= 0.5]\n",
    "\n",
    "# Heat Map\n",
    "plt.figure(figsize=(15, 10))\n",
    "sns.heatmap(highcor_matrix,\n",
    "            annot=True,\n",
    "            fmt='.1f',\n",
    "            cmap='BuPu',\n",
    "            vmin=0.5,\n",
    "            vmax=1)\n",
    "plt.title('House PriceHeatmap')"
   ]
  },
  {
   "cell_type": "markdown",
   "id": "86c939c6",
   "metadata": {},
   "source": [
    "Here are the highly correlated variables\n",
    "\n",
    "- GarageCars and GarageArea\n",
    "- GarageYrBlt and YearBuilt\n",
    "- 1stFlrSF and TotalBsmtSF\n",
    "- GrLivArea and TotRmsAbvGrd\n",
    "\n",
    "However, the data exhibits some multicollinearity, which will potenetially have negative impacts on our prediction models and makes standard errors of our estimates larger.\n",
    "Therefore, for each pair of highly correlated features, I will remove a feature that has a lower correlation with SalePrice."
   ]
  },
  {
   "cell_type": "markdown",
   "id": "66529052",
   "metadata": {},
   "source": [
    "# Feature Engineering"
   ]
  },
  {
   "cell_type": "markdown",
   "id": "df1ddf00",
   "metadata": {},
   "source": [
    "## 3.1 Handling Missing Value"
   ]
  },
  {
   "cell_type": "code",
   "execution_count": null,
   "id": "993d3f59",
   "metadata": {
    "scrolled": true
   },
   "outputs": [],
   "source": [
    "missing_data_count = X.isnull().sum()\n",
    "missing_data = pd.DataFrame({\n",
    "    'Count': missing_data_count})\n",
    "\n",
    "missing_data = missing_data[missing_data.Count > 0]\n",
    "missing_data.sort_values(by='Count', ascending=False, inplace=True)\n",
    "missing_data.head(10)"
   ]
  },
  {
   "cell_type": "code",
   "execution_count": null,
   "id": "9d9a49f8",
   "metadata": {},
   "outputs": [],
   "source": [
    "print(f\"There are {len(missing_data)} variables having NaN value.\\n\")"
   ]
  },
  {
   "cell_type": "code",
   "execution_count": null,
   "id": "c1a5dc94",
   "metadata": {
    "scrolled": true
   },
   "outputs": [],
   "source": [
    "plt.figure(figsize=(12, 6))\n",
    "sns.barplot(y=missing_data.head(10).index,\n",
    "            x=missing_data.head(10).Count,\n",
    "            palette='GnBu_r')\n",
    "title = plt.title(\"Missing Values\")\n"
   ]
  },
  {
   "cell_type": "markdown",
   "id": "d4d61c0e",
   "metadata": {},
   "source": [
    "To handle missing values, I will divide the list of variables above into three groups like below:\n",
    "\n",
    "**Group 1 - Categorical variables:** `PoolQC`, `MiscFeature`, `Alley`, `Fence`, `FireplaceQu`, `GarageType`, `GarageFinish`, `GarageQual`, `GarageCond`, `BsmtQual`, `BsmtCond`, `BsmtExposure`, `BsmtFinType1`, `BsmtFinType2`, `MasVnrType` (15 variables)\n",
    "   \n",
    "I will replace `NA` with `'None'` for this group\n",
    "    \n",
    "**Group 2 - Numerical variables where `NA` means no feature:** `GarageArea`, `GarageCars`, `BsmtFinSF1`, `BsmtFinSF2`, `BsmtUnfSF`, `TotalBsmtSF`, `BsmtFullBath`, `BsmtHalfBath`, `MasVnrArea` (10 variables)\n",
    "I will replace `NA` with `0`for this group\n",
    "    \n",
    "**Group 3 - Other variables:** `Functional`, `MSZoning`, `Electrical`, `KitchenQual`, `Exterior1st`, `Exterior2nd`, `SaleType`, `Utilities`, `LotFrontage`, `GarageYrBlt` (9 variables)\n",
    "I will replace missing value from `Functional`, `MSZoning`, `Electrical`, `KitchenQual`, `Exterior1st`, `Exterior2nd`, `SaleType`, `Utilities` with their most frequent value,\n",
    "`LotFrontage` with its *mean* and`GarageYrBlt` with `YearBuilt`."
   ]
  },
  {
   "cell_type": "code",
   "execution_count": null,
   "id": "224341a4",
   "metadata": {},
   "outputs": [],
   "source": [
    "from sklearn.impute import SimpleImputer\n",
    "group_1 = [\n",
    "    'PoolQC', 'MiscFeature', 'Alley', 'Fence', 'FireplaceQu', 'GarageType',\n",
    "    'GarageFinish', 'GarageQual', 'GarageCond', 'BsmtQual', 'BsmtCond',\n",
    "    'BsmtExposure', 'BsmtFinType1', 'BsmtFinType2', 'MasVnrType'\n",
    "]\n",
    "X[group_1] = X[group_1].fillna(\"None\")\n",
    "\n",
    "group_2 = [\n",
    "    'GarageArea', 'GarageCars', 'BsmtFinSF1', 'BsmtFinSF2', 'BsmtUnfSF',\n",
    "    'TotalBsmtSF', 'BsmtFullBath', 'BsmtHalfBath', 'MasVnrArea'\n",
    "]\n",
    "\n",
    "X[group_2] = X[group_2].fillna(0)\n",
    "\n",
    "group_3 = [\n",
    "    'Functional', 'MSZoning', 'Electrical', 'KitchenQual', 'Exterior1st',\n",
    "    'Exterior2nd', 'SaleType', 'Utilities'\n",
    "]\n",
    "\n",
    "for col in group_3:\n",
    "    mode_val = X[col].mode()[0]  # Get the mode (most frequent value) for each column\n",
    "    X[col].fillna(mode_val, inplace=True)\n",
    "\n",
    "X.LotFrontage = X.LotFrontage.fillna(X.LotFrontage.mean())\n",
    "X.GarageYrBlt = X.GarageYrBlt.fillna(X.YearBuilt)"
   ]
  },
  {
   "cell_type": "code",
   "execution_count": null,
   "id": "7c29f5cf",
   "metadata": {},
   "outputs": [],
   "source": [
    "sum(X.isnull().sum())"
   ]
  },
  {
   "cell_type": "markdown",
   "id": "f11952bd",
   "metadata": {},
   "source": [
    "# Feature Engineering"
   ]
  },
  {
   "cell_type": "markdown",
   "id": "c445599a",
   "metadata": {},
   "source": [
    "## 3.2 Handling Outliers"
   ]
  },
  {
   "cell_type": "markdown",
   "id": "952446f7",
   "metadata": {},
   "source": [
    "As regression models are very sensitive to outlier, we need to handle it like a pro. From the scatter plot `GrLivArea vs Price` above, we observe 2 outliers lying separately from the rest. They have large living area but low price which are extremely rare, therefore I will remove them from the training set."
   ]
  },
  {
   "cell_type": "code",
   "execution_count": null,
   "id": "d7d4d354",
   "metadata": {},
   "outputs": [],
   "source": [
    "sns.set_style('darkgrid')\n",
    "plt.figure(figsize=(8, 6))\n",
    "sns.scatterplot(x='GrLivArea', y='SalePrice', data=train_data)\n",
    "title = plt.title('House Price vs. Living Area')"
   ]
  },
  {
   "cell_type": "code",
   "execution_count": null,
   "id": "bb71c4a5",
   "metadata": {},
   "outputs": [],
   "source": [
    "#outlier_idx = train_data[(train_data.GrLivArea > 4000) & (train_data.SalePrice < 200000)].index\n",
    "#X.drop(outlier_idx, axis=0, inplace=True)\n",
    "#y_train.drop(outlier_idx, axis=0, inplace=True)\n",
    "\n",
    "outlier_idx = train_data[(train_data['GrLivArea'] > 4000) & (train_data['SalePrice'] < 200000)].index\n",
    "\n",
    "# Filter outlier_idx to include only valid indices\n",
    "outlier_idx = [idx for idx in outlier_idx if idx in X.index and idx in y_train.index]\n",
    "\n",
    "# Drop rows with outlier indices from both X and y_train\n",
    "X = X.drop(outlier_idx, axis=0)\n",
    "y_train = y_train.drop(outlier_idx, axis=0)\n",
    "train_data = train_data.drop(outlier_idx, axis=0)\n"
   ]
  },
  {
   "cell_type": "markdown",
   "id": "634aff05",
   "metadata": {},
   "source": [
    "## 3.3 New variables"
   ]
  },
  {
   "cell_type": "markdown",
   "id": "4524c0b1",
   "metadata": {},
   "source": [
    "It can be observed that the surface area of each floor has low correlation with house price; however, when we sum them up, the relationship becomes much stronger. Therefore, I will create a range variables below."
   ]
  },
  {
   "cell_type": "code",
   "execution_count": null,
   "id": "f4866796",
   "metadata": {},
   "outputs": [],
   "source": [
    "# total square feet\n",
    "X['totalSqFeet'] = X['TotalBsmtSF'] + X['1stFlrSF'] + X['2ndFlrSF']\n",
    "# total bathrooms\n",
    "X['totalBathroom'] = X.FullBath + X.BsmtFullBath + 0.5 * (X.HalfBath + X.BsmtHalfBath)\n",
    "# age of the house\n",
    "X['houseAge'] = X.YrSold - X.YearBuilt\n",
    "# How new the house is relative to the time is was built\n",
    "X['isNew'] = np.where(X.YrSold == X.YearBuilt, 1, 0)\n",
    "# Is the house remodeled?\n",
    "X['reModeled'] = np.where(X.YearRemodAdd == X.YearBuilt, 0, 1)\n"
   ]
  },
  {
   "cell_type": "code",
   "execution_count": null,
   "id": "cb3ad1cb",
   "metadata": {
    "scrolled": true
   },
   "outputs": [],
   "source": [
    "X"
   ]
  },
  {
   "cell_type": "markdown",
   "id": "fea2f4d6",
   "metadata": {},
   "source": [
    "I will use One-Hot encoding for these below catgorical variables using LabelEncoder()\n",
    "For numerical variables that without any ordinal meaning (e.g. `MoSold`, `MSSubClass` and `YrSold`). I will also transform them into categorical variables."
   ]
  },
  {
   "cell_type": "code",
   "execution_count": null,
   "id": "b4e0c877",
   "metadata": {},
   "outputs": [],
   "source": [
    "from sklearn.preprocessing import LabelEncoder\n",
    "\n",
    "# categorical variables\n",
    "encoder_vars = [\n",
    "    \"BsmtFinType1\", \"BsmtFinType2\",\"BsmtQual\", \"ExterCond\", \"ExterQual\", \"FireplaceQu\", \"Functional\",\n",
    "    \"GarageCond\", \"GarageQual\",\"Alley\", \"BsmtCond\", \"BsmtExposure\",  \"HeatingQC\", \"KitchenQual\", \"LandSlope\",\n",
    "    \"LotShape\", \"PavedDrive\", \"PoolQC\", \"Street\", \"Utilities\"\n",
    "]\n",
    "label_encoder = LabelEncoder()\n",
    "for var in encoder_vars:\n",
    "    X[var] = label_encoder.fit_transform(X[var])\n",
    "    \n",
    "\n",
    "#Transform numerical variables\n",
    "to_categorical = ['YrSold', 'MoSold', 'MSSubClass']\n",
    "\n",
    "for col in to_categorical:\n",
    "    X[col] = X[col].apply(str)"
   ]
  },
  {
   "cell_type": "markdown",
   "id": "496630e2",
   "metadata": {},
   "source": [
    "## 3.4 Normalizing Variables "
   ]
  },
  {
   "cell_type": "markdown",
   "id": "90c80a67",
   "metadata": {},
   "source": [
    "Since linear regression relies on the assumption of normal distribution. Transfoming skewed data will help our models perform better.\n",
    "\n",
    "Here I will examine our varaibles using Distribution plot and Q-Q plot."
   ]
  },
  {
   "cell_type": "code",
   "execution_count": null,
   "id": "18f77379",
   "metadata": {},
   "outputs": [],
   "source": [
    "from scipy import stats\n",
    "from scipy.stats import norm\n",
    "\n",
    "# Write function to plot Distribution and QQ-plot\n",
    "def norm_plot(X):\n",
    "    \n",
    "    fig, axes = plt.subplots(1, 2, figsize=(8, 4))\n",
    "\n",
    "    sns.distplot(X, fit=norm, ax=axes[0])\n",
    "    axes[0].set_title('Distribution Plot')\n",
    "\n",
    "    axes[1] = stats.probplot((X), plot=plt)\n",
    "    plt.tight_layout()"
   ]
  },
  {
   "cell_type": "code",
   "execution_count": null,
   "id": "233f8d67",
   "metadata": {},
   "outputs": [],
   "source": [
    "norm_plot(y_train)"
   ]
  },
  {
   "cell_type": "markdown",
   "id": "f2fc7024",
   "metadata": {},
   "source": [
    "The data seems to be right-skewed, so I will use Log() to transform data.\n",
    "Since nartural log of 0 is NaN, I will use Log(X+1)"
   ]
  },
  {
   "cell_type": "code",
   "execution_count": null,
   "id": "8ef19019",
   "metadata": {},
   "outputs": [],
   "source": [
    "y_train = np.log(1 + y_train)\n",
    "norm_plot(y_train)"
   ]
  },
  {
   "cell_type": "markdown",
   "id": "1cf55300",
   "metadata": {},
   "source": [
    "Now the distribution of the dependent variable is normal, I will examine other variables.\n",
    "First I will rank the features based on their level of skewness"
   ]
  },
  {
   "cell_type": "code",
   "execution_count": null,
   "id": "ac0ac14f",
   "metadata": {
    "scrolled": true
   },
   "outputs": [],
   "source": [
    "skewness = train_data.skew().sort_values(ascending=False)\n",
    "skewness[abs(skewness) > 0.75]"
   ]
  },
  {
   "cell_type": "markdown",
   "id": "9c08e395",
   "metadata": {},
   "source": [
    "For variable with skewness less than -1 or greater than 1, the distribution is **highly skewed**. The appropriate range is -0.5 to 0.5, I will transform all variables with skewness that excess this range."
   ]
  },
  {
   "cell_type": "code",
   "execution_count": null,
   "id": "313010bc",
   "metadata": {},
   "outputs": [],
   "source": [
    "skewed = list(skewness[abs(skewness) > 0.5].index)\n",
    "\n",
    "# Remove 'MSSubClass' and 'SalePrice'\n",
    "skewed = [\n",
    "    col for col in skewed if col not in ['MSSubClass', 'SalePrice']\n",
    "]\n",
    "for col in skewed:\n",
    "    X[col] = np.log(1 + X[col])"
   ]
  },
  {
   "cell_type": "code",
   "execution_count": null,
   "id": "61ed6117",
   "metadata": {},
   "outputs": [],
   "source": [
    "norm_plot(X['GrLivArea'])"
   ]
  },
  {
   "cell_type": "markdown",
   "id": "2edbddac",
   "metadata": {},
   "source": [
    "Looks good!"
   ]
  },
  {
   "cell_type": "markdown",
   "id": "911aa1d0",
   "metadata": {},
   "source": [
    "## 3.5 Scaling"
   ]
  },
  {
   "cell_type": "code",
   "execution_count": null,
   "id": "7b97368b",
   "metadata": {},
   "outputs": [],
   "source": [
    "from sklearn.preprocessing import RobustScaler\n",
    "num_cols = list(X.select_dtypes(exclude=['object']).columns)\n",
    "scaler = RobustScaler()\n",
    "X[num_cols] = scaler.fit_transform(X[num_cols])"
   ]
  },
  {
   "cell_type": "code",
   "execution_count": null,
   "id": "8fb3dfaf",
   "metadata": {},
   "outputs": [],
   "source": [
    "#One hot Encoding\n",
    "X = pd.get_dummies(X, drop_first=True)"
   ]
  },
  {
   "cell_type": "markdown",
   "id": "6087eede",
   "metadata": {},
   "source": [
    "Now I will split X into a train a test set to start modelling"
   ]
  },
  {
   "cell_type": "code",
   "execution_count": null,
   "id": "1b482e2a",
   "metadata": {},
   "outputs": [],
   "source": [
    "len_test = len(test_data)\n",
    "X_train = X.iloc[:-len_test, :]\n",
    "X_test = X.iloc[-len_test:, :]\n",
    "print(\"X_train:\", X_train.shape)\n",
    "print(\"X_test:\", X_test.shape)"
   ]
  },
  {
   "cell_type": "markdown",
   "id": "52d974bb",
   "metadata": {},
   "source": [
    "# 4. Modeling "
   ]
  },
  {
   "cell_type": "markdown",
   "id": "f88e6e21",
   "metadata": {},
   "source": [
    "It's a common practice to split the entire data into train and test sets. However, although a model may work very well on a set of test data, it still performs poorly on other sets of unseen data.\n",
    "\n",
    "To solve this problem I will utilize a method called [cross-validation](https://scikit-learn.org/stable/modules/cross_validation.html) (CV). Here, the training set is split into `n` smaller sets. Then, for each fold, a model is trained using the other `n-1` folds and evaluated on the remaining fold. The performance measure reported by k-fold cross-validation is then the average of the values computed in the loop.\n",
    "<img src=\"https://scikit-learn.org/stable/_images/grid_search_cross_validation.png\" width=\"400\" height=\"200\" alt=\"CV\">\n"
   ]
  },
  {
   "cell_type": "code",
   "execution_count": null,
   "id": "b320a1bc",
   "metadata": {},
   "outputs": [],
   "source": [
    "def rmse(y_true, y_pred):\n",
    "    return np.sqrt(np.mean((y_true - y_pred) ** 2))"
   ]
  },
  {
   "cell_type": "markdown",
   "id": "0bba87c7",
   "metadata": {},
   "source": [
    "## 4.1 Ridge Regression"
   ]
  },
  {
   "cell_type": "markdown",
   "id": "f126ee5a",
   "metadata": {},
   "source": [
    "FOllow the formular below\n",
    "$$ J(\\theta) = \\frac{1}{2m} \\left( \\sum_{i=1}^m \\left( h_\\theta\\left( x^{(i)} \\right) - y^{(i)} \\right)^2 \\right) + \\frac{\\lambda}{2m} \\left( \\sum_{j=1}^n \\theta_j^2 \\right)$$\n",
    "As the model's parameter increase, Ridge regression introduce a small penalty to the model, therefore making a more stable long-term prediction.\n",
    "Ridge Regression depends on the parameter $\\lambda$, so I will use LambdaCV to obtain that parameter."
   ]
  },
  {
   "cell_type": "code",
   "execution_count": null,
   "id": "d6c3b9e9",
   "metadata": {},
   "outputs": [],
   "source": [
    "from sklearn.linear_model import Ridge, Lasso"
   ]
  },
  {
   "cell_type": "code",
   "execution_count": null,
   "id": "79005f5e",
   "metadata": {},
   "outputs": [],
   "source": [
    "pip install --upgrade numpy scipy scikit-learn\n"
   ]
  },
  {
   "cell_type": "code",
   "execution_count": null,
   "id": "4ee218cb",
   "metadata": {},
   "outputs": [],
   "source": [
    "from sklearn import linear_model\n",
    "from sklearn.linear_model import RidgeCV\n",
    "\n",
    "Ridge_predictor = RidgeCV(cv=30)\n",
    "Ridge_predictor.fit(X_train,y_train)\n",
    "print(\"Ridge Lambda: {0}\".format(Ridge_predictor.alpha_))"
   ]
  },
  {
   "cell_type": "code",
   "execution_count": null,
   "id": "126a9653",
   "metadata": {},
   "outputs": [],
   "source": [
    "ridge = Ridge(alpha=10.0)"
   ]
  },
  {
   "cell_type": "markdown",
   "id": "b9d3f4f8",
   "metadata": {},
   "source": [
    "## 4.2 Lasso Regression"
   ]
  },
  {
   "cell_type": "code",
   "execution_count": null,
   "id": "bbe6e14c",
   "metadata": {},
   "outputs": [],
   "source": [
    "from sklearn import linear_model\n",
    "from sklearn.linear_model import LassoCV\n",
    "\n",
    "lasso_predictor = LassoCV(cv=10)\n",
    "lasso_predictor.fit(X_train,y_train)\n",
    "print(\"lasso Lambda: {0}\".format(lasso_predictor.alpha_))"
   ]
  },
  {
   "cell_type": "code",
   "execution_count": null,
   "id": "03b55b9f",
   "metadata": {},
   "outputs": [],
   "source": [
    "lasso = Lasso(alpha=0.0006)"
   ]
  },
  {
   "cell_type": "code",
   "execution_count": null,
   "id": "a51b5e1e",
   "metadata": {},
   "outputs": [],
   "source": []
  },
  {
   "cell_type": "code",
   "execution_count": null,
   "id": "3c3297a3",
   "metadata": {},
   "outputs": [],
   "source": [
    "from sklearn.base import BaseEstimator, RegressorMixin, TransformerMixin, clone\n",
    "\n",
    "class AvgModel(BaseEstimator, RegressorMixin, TransformerMixin):\n",
    "    def __init__(self, models):\n",
    "        self.models = models\n",
    "\n",
    "    def fit(self, X, y):\n",
    "        # clone models\n",
    "        self.models_ = [clone(x) for x in self.models]\n",
    "\n",
    "        # Train cloned models\n",
    "        for model in self.models_:\n",
    "            model.fit(X, y)\n",
    "\n",
    "        return self\n",
    "\n",
    "    def predict(self, X):\n",
    "        predictions = np.column_stack([model.predict(X) for model in self.models_])\n",
    "        return np.mean(predictions, axis=1)"
   ]
  },
  {
   "cell_type": "code",
   "execution_count": null,
   "id": "3b805b85",
   "metadata": {},
   "outputs": [],
   "source": [
    "avg_model = AvgModel(models=(ridge, lasso))\n",
    "avg_model"
   ]
  },
  {
   "cell_type": "markdown",
   "id": "fafc2d56",
   "metadata": {},
   "source": [
    "## Conclusion"
   ]
  },
  {
   "cell_type": "markdown",
   "id": "71b6648f",
   "metadata": {},
   "source": [
    "In this project, I have conducted a detailed EDA to understand the data and important features. Based on exploratory analysis, I performed data preprocessing and feature engineering. Finally, I train regularized regression models (Ridge, Lasso), XGBoost and LightGBM, and take average predictions from these models to predict final price of each house"
   ]
  },
  {
   "cell_type": "code",
   "execution_count": null,
   "id": "4f2fb951",
   "metadata": {},
   "outputs": [],
   "source": []
  },
  {
   "cell_type": "code",
   "execution_count": null,
   "id": "0d07475d",
   "metadata": {},
   "outputs": [],
   "source": []
  }
 ],
 "metadata": {
  "kernelspec": {
   "display_name": "Python 3 (ipykernel)",
   "language": "python",
   "name": "python3"
  },
  "language_info": {
   "codemirror_mode": {
    "name": "ipython",
    "version": 3
   },
   "file_extension": ".py",
   "mimetype": "text/x-python",
   "name": "python",
   "nbconvert_exporter": "python",
   "pygments_lexer": "ipython3",
   "version": "3.12.4"
  }
 },
 "nbformat": 4,
 "nbformat_minor": 5
}
